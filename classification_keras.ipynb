{
 "cells": [
  {
   "cell_type": "code",
   "execution_count": 1,
   "metadata": {},
   "outputs": [
    {
     "name": "stderr",
     "output_type": "stream",
     "text": [
      "2022-07-01 15:15:44.592935: W tensorflow/stream_executor/platform/default/dso_loader.cc:64] Could not load dynamic library 'libcudart.so.11.0'; dlerror: libcudart.so.11.0: cannot open shared object file: No such file or directory\n",
      "2022-07-01 15:15:44.593018: I tensorflow/stream_executor/cuda/cudart_stub.cc:29] Ignore above cudart dlerror if you do not have a GPU set up on your machine.\n"
     ]
    }
   ],
   "source": [
    "import keras\n",
    "from keras.models import Sequential\n",
    "from keras.layers import Dense\n",
    "from keras.utils import to_categorical"
   ]
  },
  {
   "cell_type": "code",
   "execution_count": null,
   "metadata": {},
   "outputs": [],
   "source": [
    "#We need to convert our target column into categories of nxm where n are the number of samplesa and m are the possible categories.\n",
    "#The output from the prediction will be of the same shape showing probabilities of each class on each data sample.\n",
    "\n",
    "#target = to_categorical(car[\"decision\"])\n",
    "#Our model will have m neurons in the output layer where m is the number of classes the data can belong to.\n",
    "\n",
    "#model = Sequential()\n",
    "#target = to_categorical(target)\n",
    "\n",
    "#model.add(Dense(5, activation=\"relu\", input_shape=(n_cols,)))\n",
    "#model.add(Dense(5, activation))\n",
    "#model.add(Dense(4, activation=\"softmax\")) # the output layer.\n",
    "\n",
    "#model.compile(optimzer=\"adam\", loss=\"categorical_crossentropy\", metrics=[\"accuracy\"])\n",
    "#metrics is the evaluation metric used for the model, and accuracy is a builtin evaluation metric.\n",
    "\n",
    "#model.fit(predictors, target, epoch)\n",
    "#model.predict(test_data)"
   ]
  }
 ],
 "metadata": {
  "kernelspec": {
   "display_name": "Python 3.8.10 ('virtualenv')",
   "language": "python",
   "name": "python3"
  },
  "language_info": {
   "codemirror_mode": {
    "name": "ipython",
    "version": 3
   },
   "file_extension": ".py",
   "mimetype": "text/x-python",
   "name": "python",
   "nbconvert_exporter": "python",
   "pygments_lexer": "ipython3",
   "version": "3.8.10"
  },
  "orig_nbformat": 4,
  "vscode": {
   "interpreter": {
    "hash": "10c96eb16c2cd293ad1d6545880ee0f5359cd1cdaf9e167fe2bf16a42214e0eb"
   }
  }
 },
 "nbformat": 4,
 "nbformat_minor": 2
}
