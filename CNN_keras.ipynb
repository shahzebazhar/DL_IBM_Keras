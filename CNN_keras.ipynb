{
 "cells": [
  {
   "cell_type": "code",
   "execution_count": 1,
   "metadata": {},
   "outputs": [
    {
     "name": "stderr",
     "output_type": "stream",
     "text": [
      "2022-07-02 22:09:23.316096: W tensorflow/stream_executor/platform/default/dso_loader.cc:64] Could not load dynamic library 'libcudart.so.11.0'; dlerror: libcudart.so.11.0: cannot open shared object file: No such file or directory\n",
      "2022-07-02 22:09:23.316145: I tensorflow/stream_executor/cuda/cudart_stub.cc:29] Ignore above cudart dlerror if you do not have a GPU set up on your machine.\n"
     ]
    }
   ],
   "source": [
    "import keras\n",
    "from keras.models import Sequential\n",
    "from keras.layers import Conv2D\n",
    "from keras.layers import MaxPooling2D\n",
    "from keras.layers import Flatten\n",
    "from keras.layers import Dense"
   ]
  },
  {
   "cell_type": "code",
   "execution_count": null,
   "metadata": {},
   "outputs": [],
   "source": [
    "#Similar to traditional neural networks.\n",
    "#model = Sequential()\n",
    "#input_shape = (128, 128, 3) # 128x128 colored images.\n",
    "#model.add(Conv2D(16, kernal_size=(2, 2), strides=(1, 1), activation='relu', input_shape=input_shape))\n",
    "#16 = no_of_filters, each filter of size 2x2 and sliding by 1x1.\n",
    "#model.add(MaxPooling2D(pool_size=(2, 2), strides=(2, 2)))\n",
    "#Filter size of 2x2 and strides moving with horizontal magnitude 2 and vertical magnitude 2\n",
    "#model.add(Conv2D(32, kernel_size=(2, 2), activation=\"relu\")) # no input_shape as is not the first conv layer.\n",
    "#strides default to (1, 1)\n",
    "#model.add(MaxPooling2D(pool_size=(2, 2)))\n",
    "#strides default to pool_size\n",
    "#model.add(Flatter()) # To proceed to a fully connected layer\n",
    "#model.add(Dense(100, activation=\"relu\"))\n",
    "#model.add(Dense(num_classes, activation=\"softmax\")) #output layer\n",
    "\n",
    "#Rest are the same.\n"
   ]
  }
 ],
 "metadata": {
  "kernelspec": {
   "display_name": "Python 3.8.10 ('virtualenv')",
   "language": "python",
   "name": "python3"
  },
  "language_info": {
   "codemirror_mode": {
    "name": "ipython",
    "version": 3
   },
   "file_extension": ".py",
   "mimetype": "text/x-python",
   "name": "python",
   "nbconvert_exporter": "python",
   "pygments_lexer": "ipython3",
   "version": "3.8.10"
  },
  "orig_nbformat": 4,
  "vscode": {
   "interpreter": {
    "hash": "10c96eb16c2cd293ad1d6545880ee0f5359cd1cdaf9e167fe2bf16a42214e0eb"
   }
  }
 },
 "nbformat": 4,
 "nbformat_minor": 2
}
