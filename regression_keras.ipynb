{
 "cells": [
  {
   "cell_type": "code",
   "execution_count": 1,
   "metadata": {},
   "outputs": [
    {
     "name": "stderr",
     "output_type": "stream",
     "text": [
      "2022-07-01 15:10:26.270477: W tensorflow/stream_executor/platform/default/dso_loader.cc:64] Could not load dynamic library 'libcudart.so.11.0'; dlerror: libcudart.so.11.0: cannot open shared object file: No such file or directory\n",
      "2022-07-01 15:10:26.270539: I tensorflow/stream_executor/cuda/cudart_stub.cc:29] Ignore above cudart dlerror if you do not have a GPU set up on your machine.\n"
     ]
    }
   ],
   "source": [
    "import keras\n",
    "from keras.models import Sequential\n",
    "from keras.layers import Dense"
   ]
  },
  {
   "cell_type": "code",
   "execution_count": null,
   "metadata": {},
   "outputs": [],
   "source": [
    "#We separate the predictors and target.\n",
    "#The input neurons are dependant on the number of predictors, aka the number of cols.\n",
    "\n",
    "#model = Sequential() # Creates the model.\n",
    "#model.add(Dense(n, activation='relu', input_shape=(n_cols))) # n is the number of neurons in that layer.\n",
    "#activation function is whatever we wish to use, and input_shape is needed for the first hidden layer.\n",
    "#model.add(Dense(n, activation))\n",
    "#model.add(Dense(1)) # output layer.\n",
    "\n",
    "#model.compile(optimizer='adam', loss=\"mean_squared_error\") # used for training the model.\n",
    "#adam is an optimizer, just like gradient descent but we donot need to provide a learning rate.\n",
    "\n",
    "#model.fit(predictors, target) # fitting the model on our train data.\n",
    "#predictions = model.predict(test_data)\n"
   ]
  }
 ],
 "metadata": {
  "kernelspec": {
   "display_name": "Python 3.8.10 ('virtualenv')",
   "language": "python",
   "name": "python3"
  },
  "language_info": {
   "codemirror_mode": {
    "name": "ipython",
    "version": 3
   },
   "file_extension": ".py",
   "mimetype": "text/x-python",
   "name": "python",
   "nbconvert_exporter": "python",
   "pygments_lexer": "ipython3",
   "version": "3.8.10"
  },
  "orig_nbformat": 4,
  "vscode": {
   "interpreter": {
    "hash": "10c96eb16c2cd293ad1d6545880ee0f5359cd1cdaf9e167fe2bf16a42214e0eb"
   }
  }
 },
 "nbformat": 4,
 "nbformat_minor": 2
}
